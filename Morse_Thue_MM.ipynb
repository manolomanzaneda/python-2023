{
  "nbformat": 4,
  "nbformat_minor": 0,
  "metadata": {
    "colab": {
      "provenance": [],
      "authorship_tag": "ABX9TyMI9zDcGTbxzV8HZein+VaK",
      "include_colab_link": true
    },
    "kernelspec": {
      "name": "python3",
      "display_name": "Python 3"
    },
    "language_info": {
      "name": "python"
    }
  },
  "cells": [
    {
      "cell_type": "markdown",
      "metadata": {
        "id": "view-in-github",
        "colab_type": "text"
      },
      "source": [
        "<a href=\"https://colab.research.google.com/github/manolomanzaneda/python-2023/blob/main/Morse_Thue_MM.ipynb\" target=\"_parent\"><img src=\"https://colab.research.google.com/assets/colab-badge.svg\" alt=\"Open In Colab\"/></a>"
      ]
    },
    {
      "cell_type": "code",
      "source": [
        " def next_morse(sequence):\n",
        "    next_sequence = \"\"\n",
        "    for char in sequence:\n",
        "        if char == '0':\n",
        "            next_sequence += '01'\n",
        "        elif char == '1':\n",
        "            next_sequence += '10'\n",
        "    return next_sequence\n",
        "\n",
        "n = int(input(\"Ingrese el número de secuencias de Morse-Thue que desea generar: \"))\n",
        "sec='0'\n",
        "for i in range(n):\n",
        "    print(\"Secuencia \",i,':', sec)\n",
        "    sec= next_morse(sec)\n",
        "    "
      ],
      "metadata": {
        "colab": {
          "base_uri": "https://localhost:8080/"
        },
        "id": "8CWfNzdEerDe",
        "outputId": "0a9dff8c-c535-4f5e-e66a-89e47fe9b98f"
      },
      "execution_count": null,
      "outputs": [
        {
          "output_type": "stream",
          "name": "stdout",
          "text": [
            "Ingrese el número de secuencias de Morse-Thue que desea generar: 8\n",
            "Secuencia  0 : 0\n",
            "Secuencia  1 : 01\n",
            "Secuencia  2 : 0110\n",
            "Secuencia  3 : 01101001\n",
            "Secuencia  4 : 0110100110010110\n",
            "Secuencia  5 : 01101001100101101001011001101001\n",
            "Secuencia  6 : 0110100110010110100101100110100110010110011010010110100110010110\n",
            "Secuencia  7 : 01101001100101101001011001101001100101100110100101101001100101101001011001101001011010011001011001101001100101101001011001101001\n"
          ]
        }
      ]
    },
    {
      "cell_type": "code",
      "source": [
        "import textwrap\n",
        "\n",
        "def next_morse(sequence):\n",
        "    next_sequence = \"\"\n",
        "    for char in sequence:\n",
        "        if char == '0':\n",
        "            next_sequence += '01'\n",
        "        elif char == '1':\n",
        "            next_sequence += '10'\n",
        "    return next_sequence\n",
        "\n",
        "def canvi(sequence):  #canvia els zeros per un espai i els uns per un asterisc\n",
        "    next_sequence = \"\"\n",
        "    for char in sequence:\n",
        "        if char == '0':\n",
        "            next_sequence += '  '\n",
        "        elif char == '1':\n",
        "            next_sequence += ' M'\n",
        "    return next_sequence\n",
        "\n",
        "def print_long_string(string, width):\n",
        "    # Dividimos la cadena en líneas más cortas que se ajusten a la longitud especificada\n",
        "    wrapped_lines = textwrap.wrap(string, width=width)\n",
        "    # Imprimimos cada línea en negrita\n",
        "    bold = \"\\033[1m\"\n",
        "    end_bold = \"\\033[0m\"\n",
        "    for line in wrapped_lines:\n",
        "        print(bold+line+end_bold)\n",
        "\n",
        "n = int(input(\"Ingrese el número de la secuencia de Morse-Thue que desea generar: \"))\n",
        "sec='0'\n",
        "for i in range(n):\n",
        "    sec= next_morse(sec)\n",
        "sec=canvi(sec)\n",
        "print_long_string(sec,120)\n"
      ],
      "metadata": {
        "colab": {
          "base_uri": "https://localhost:8080/"
        },
        "id": "25GpSr7vg7ea",
        "outputId": "bb705b35-d605-476c-e4e0-ca1d93a824d4"
      },
      "execution_count": null,
      "outputs": [
        {
          "output_type": "stream",
          "name": "stdout",
          "text": [
            "Ingrese el número de la secuencia de Morse-Thue que desea generar: 12\n",
            "\u001b[1m   M M   M     M M     M   M M   M     M   M M     M M   M     M M     M   M M     M M   M     M   M M   M     M M     M\u001b[0m\n",
            "\u001b[1mM M   M     M   M M     M M   M     M   M M   M     M M     M   M M     M M   M     M M     M   M M   M     M   M M\u001b[0m\n",
            "\u001b[1mM M   M     M M     M   M M     M M   M     M   M M   M     M M     M   M M     M M   M     M M     M   M M   M     M\u001b[0m\n",
            "\u001b[1mM M     M M   M     M   M M   M     M M     M   M M   M     M   M M     M M   M     M M     M   M M     M M   M     M\u001b[0m\n",
            "\u001b[1mM M   M     M M     M   M M   M     M   M M     M M   M     M   M M   M     M M     M   M M     M M   M     M M     M\u001b[0m\n",
            "\u001b[1mM M   M     M   M M     M M   M     M   M M   M     M M     M   M M   M     M   M M     M M   M     M M     M   M M\u001b[0m\n",
            "\u001b[1mM M   M     M   M M   M     M M     M   M M     M M   M     M M     M   M M   M     M   M M     M M   M     M M     M\u001b[0m\n",
            "\u001b[1mM M     M M   M     M   M M   M     M M     M   M M   M     M   M M     M M   M     M   M M   M     M M     M   M M\u001b[0m\n",
            "\u001b[1mM M   M     M M     M   M M   M     M   M M     M M   M     M M     M   M M     M M   M     M   M M   M     M M     M\u001b[0m\n",
            "\u001b[1mM M     M M   M     M M     M   M M   M     M   M M     M M   M     M   M M   M     M M     M   M M   M     M   M M\u001b[0m\n",
            "\u001b[1mM M   M     M M     M   M M     M M   M     M   M M   M     M M     M   M M     M M   M     M M     M   M M   M     M\u001b[0m\n",
            "\u001b[1mM M     M M   M     M M     M   M M     M M   M     M   M M   M     M M     M   M M   M     M   M M     M M   M     M\u001b[0m\n",
            "\u001b[1mM M   M     M M     M   M M     M M   M     M M     M   M M   M     M   M M     M M   M     M   M M   M     M M     M\u001b[0m\n",
            "\u001b[1mM M   M     M   M M     M M   M     M M     M   M M     M M   M     M   M M   M     M M     M   M M   M     M   M M\u001b[0m\n",
            "\u001b[1mM M   M     M   M M   M     M M     M   M M     M M   M     M M     M   M M   M     M   M M     M M   M     M M     M\u001b[0m\n",
            "\u001b[1mM M     M M   M     M   M M   M     M M     M   M M     M M   M     M M     M   M M   M     M   M M     M M   M     M\u001b[0m\n",
            "\u001b[1mM M   M     M M     M   M M   M     M   M M     M M   M     M M     M   M M     M M   M     M   M M   M     M M     M\u001b[0m\n",
            "\u001b[1mM M   M     M   M M     M M   M     M   M M   M     M M     M   M M     M M   M     M M     M   M M   M     M   M M\u001b[0m\n",
            "\u001b[1mM M   M     M   M M   M     M M     M   M M   M     M   M M     M M   M     M M     M   M M     M M   M     M   M M   M\u001b[0m\n",
            "\u001b[1mM M     M   M M     M M   M     M M     M   M M   M     M   M M     M M   M     M M     M   M M     M M   M     M   M M\u001b[0m\n",
            "\u001b[1mM     M M     M   M M   M     M   M M     M M   M     M   M M   M     M M     M   M M     M M   M     M M     M   M M\u001b[0m\n",
            "\u001b[1mM     M   M M     M M   M     M   M M   M     M M     M   M M   M     M   M M     M M   M     M M     M   M M     M M\u001b[0m\n",
            "\u001b[1mM     M   M M   M     M M     M   M M   M     M   M M     M M   M     M   M M   M     M M     M   M M     M M   M     M\u001b[0m\n",
            "\u001b[1mM     M   M M   M     M   M M     M M   M     M M     M   M M     M M   M     M   M M   M     M M     M   M M     M M\u001b[0m\n",
            "\u001b[1mM     M M     M   M M   M     M   M M     M M   M     M   M M   M     M M     M   M M   M     M   M M     M M   M     M\u001b[0m\n",
            "\u001b[1mM     M   M M     M M   M     M   M M   M     M M     M   M M     M M   M     M M     M   M M   M     M   M M     M M\u001b[0m\n",
            "\u001b[1mM     M M     M   M M     M M   M     M   M M   M     M M     M   M M   M     M   M M     M M   M     M   M M   M     M\u001b[0m\n",
            "\u001b[1mM     M   M M     M M   M     M M     M   M M   M     M   M M     M M   M     M M     M   M M     M M   M     M   M M\u001b[0m\n",
            "\u001b[1mM     M M     M   M M     M M   M     M M     M   M M   M     M   M M     M M   M     M   M M   M     M M     M   M M\u001b[0m\n",
            "\u001b[1mM     M   M M     M M   M     M M     M   M M     M M   M     M   M M   M     M M     M   M M   M     M   M M     M M\u001b[0m\n",
            "\u001b[1mM     M   M M   M     M M     M   M M     M M   M     M M     M   M M   M     M   M M     M M   M     M   M M   M     M\u001b[0m\n",
            "\u001b[1mM     M   M M   M     M   M M     M M   M     M M     M   M M     M M   M     M   M M   M     M M     M   M M     M M\u001b[0m\n",
            "\u001b[1mM     M M     M   M M   M     M   M M     M M   M     M M     M   M M     M M   M     M   M M   M     M M     M   M M\u001b[0m\n",
            "\u001b[1mM     M   M M     M M   M     M   M M   M     M M     M   M M     M M   M     M M     M   M M   M     M   M M     M M\u001b[0m\n",
            "\u001b[1mM     M M     M   M M     M M   M     M   M M   M     M M     M   M M     M M   M     M M     M   M M   M     M   M M\u001b[0m\n",
            "\u001b[1mM M   M     M   M M   M     M M     M   M M   M     M   M M     M M   M     M M     M   M M     M M   M     M   M M   M\u001b[0m\n",
            "\u001b[1mM M     M   M M     M M   M     M M     M   M M   M     M   M M     M M   M     M M     M   M M     M M   M     M   M M\u001b[0m\n",
            "\u001b[1mM     M M     M   M M   M     M   M M     M M   M     M   M M   M     M M     M   M M     M M   M     M M     M   M M\u001b[0m\n",
            "\u001b[1mM     M   M M     M M   M     M   M M   M     M M     M   M M   M     M   M M     M M   M     M M     M   M M     M M\u001b[0m\n",
            "\u001b[1mM     M   M M   M     M M     M   M M   M     M   M M     M M   M     M   M M   M     M M     M   M M     M M   M     M\u001b[0m\n",
            "\u001b[1mM     M   M M   M     M   M M     M M   M     M M     M   M M     M M   M     M   M M   M     M M     M   M M     M M\u001b[0m\n",
            "\u001b[1mM     M M     M   M M   M     M   M M     M M   M     M   M M   M     M M     M   M M   M     M   M M     M M   M     M\u001b[0m\n",
            "\u001b[1mM     M   M M     M M   M     M   M M   M     M M     M   M M     M M   M     M M     M   M M   M     M   M M     M M\u001b[0m\n",
            "\u001b[1mM     M M     M   M M     M M   M     M   M M   M     M M     M   M M   M     M   M M     M M   M     M   M M   M     M\u001b[0m\n",
            "\u001b[1mM     M   M M     M M   M     M M     M   M M   M     M   M M     M M   M     M M     M   M M     M M   M     M   M M\u001b[0m\n",
            "\u001b[1mM     M M     M   M M     M M   M     M M     M   M M   M     M   M M     M M   M     M   M M   M     M M     M   M M\u001b[0m\n",
            "\u001b[1mM     M   M M     M M   M     M M     M   M M     M M   M     M   M M   M     M M     M   M M   M     M   M M     M M\u001b[0m\n",
            "\u001b[1mM     M   M M   M     M M     M   M M     M M   M     M M     M   M M   M     M   M M     M M   M     M   M M   M     M\u001b[0m\n",
            "\u001b[1mM     M   M M   M     M   M M     M M   M     M M     M   M M     M M   M     M   M M   M     M M     M   M M     M M\u001b[0m\n",
            "\u001b[1mM     M M     M   M M   M     M   M M     M M   M     M M     M   M M     M M   M     M   M M   M     M M     M   M M\u001b[0m\n",
            "\u001b[1mM     M   M M     M M   M     M   M M   M     M M     M   M M     M M   M     M M     M   M M   M     M   M M     M M\u001b[0m\n",
            "\u001b[1mM     M   M M   M     M M     M   M M   M     M   M M     M M   M     M M     M   M M     M M   M     M   M M   M     M\u001b[0m\n",
            "\u001b[1mM     M   M M   M     M   M M     M M   M     M   M M   M     M M     M   M M     M M   M     M M     M   M M   M     M\u001b[0m\n",
            "\u001b[1mM M     M M   M     M M     M   M M     M M   M     M   M M   M     M M     M   M M     M M   M     M M     M   M M   M\u001b[0m\n",
            "\u001b[1mM   M M     M M   M     M   M M   M     M M     M   M M   M     M   M M     M M   M     M M     M   M M     M M   M\u001b[0m\n",
            "\u001b[1mM   M M   M     M M     M   M M   M     M   M M     M M   M     M   M M   M     M M     M   M M     M M   M     M M\u001b[0m\n",
            "\u001b[1mM   M M   M     M   M M     M M   M     M   M M   M     M M     M   M M   M     M   M M     M M   M     M M     M   M M\u001b[0m\n",
            "\u001b[1mM M   M     M   M M   M     M M     M   M M     M M   M     M M     M   M M   M     M   M M     M M   M     M M     M\u001b[0m\n",
            "\u001b[1mM M     M M   M     M   M M   M     M M     M   M M   M     M   M M     M M   M     M   M M   M     M M     M   M M\u001b[0m\n",
            "\u001b[1mM M   M     M M     M   M M   M     M   M M     M M   M     M M     M   M M     M M   M     M   M M   M     M M     M\u001b[0m\n",
            "\u001b[1mM M     M M   M     M M     M   M M   M     M   M M     M M   M     M   M M   M     M M     M   M M   M     M   M M\u001b[0m\n",
            "\u001b[1mM M   M     M M     M   M M     M M   M     M   M M   M     M M     M   M M     M M   M     M M     M   M M   M     M\u001b[0m\n",
            "\u001b[1mM M     M M   M     M M     M   M M     M M   M     M   M M   M     M M     M   M M   M     M   M M     M M   M     M\u001b[0m\n",
            "\u001b[1mM M   M     M M     M   M M     M M   M     M M     M   M M   M     M   M M     M M   M     M   M M   M     M M     M\u001b[0m\n",
            "\u001b[1mM M   M     M   M M     M M   M     M M     M   M M     M M   M     M   M M   M     M M     M   M M   M     M   M M\u001b[0m\n",
            "\u001b[1mM M   M     M   M M   M     M M     M   M M     M M   M     M M     M   M M   M     M   M M     M M   M     M M     M\u001b[0m\n",
            "\u001b[1mM M     M M   M     M   M M   M     M M     M   M M     M M   M     M M     M   M M   M     M   M M     M M   M     M\u001b[0m\n",
            "\u001b[1mM M   M     M M     M   M M   M     M   M M     M M   M     M M     M   M M     M M   M     M   M M   M     M M     M\u001b[0m\n",
            "\u001b[1mM M\u001b[0m\n"
          ]
        }
      ]
    }
  ]
}