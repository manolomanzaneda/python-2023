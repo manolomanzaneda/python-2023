{
  "nbformat": 4,
  "nbformat_minor": 0,
  "metadata": {
    "colab": {
      "provenance": []
    },
    "kernelspec": {
      "name": "python3",
      "display_name": "Python 3"
    },
    "language_info": {
      "name": "python"
    }
  },
  "cells": [
    {
      "cell_type": "code",
      "execution_count": null,
      "metadata": {
        "colab": {
          "base_uri": "https://localhost:8080/"
        },
        "id": "Mk-HrpdEC80z",
        "outputId": "a5356a6e-fbeb-4b8b-8723-00d81f42bd7f"
      },
      "outputs": [
        {
          "output_type": "stream",
          "name": "stdout",
          "text": [
            "1 : V= 1 J= 2\n",
            "2 : V= 1 J= 3\n",
            "3 : V= 1 J= 4\n",
            "4 : V= 2 J= 1\n",
            "5 : V= 2 J= 3\n",
            "6 : V= 2 J= 4\n",
            "7 : V= 3 J= 1\n",
            "8 : V= 3 J= 2\n",
            "9 : V= 3 J= 4\n",
            "10 : V= 4 J= 1\n",
            "11 : V= 4 J= 2\n",
            "12 : V= 4 J= 3\n"
          ]
        }
      ],
      "source": [
        "i=0\n",
        "for V in range (1,5):\n",
        "  for J in range (1,5):\n",
        "    if J==V:\n",
        "      continue\n",
        "    i+=1\n",
        "    print(i,': V=',V,'J=',J, )\n",
        "    "
      ]
    },
    {
      "cell_type": "code",
      "source": [
        "(1==2) or (4==3) or (3==4)"
      ],
      "metadata": {
        "colab": {
          "base_uri": "https://localhost:8080/"
        },
        "id": "M44WgVAlGHET",
        "outputId": "80d75a3f-fc0b-48a6-c2a9-fe366459b362"
      },
      "execution_count": null,
      "outputs": [
        {
          "output_type": "execute_result",
          "data": {
            "text/plain": [
              "False"
            ]
          },
          "metadata": {},
          "execution_count": 12
        }
      ]
    }
  ]
}