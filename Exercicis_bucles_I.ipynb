{
  "nbformat": 4,
  "nbformat_minor": 0,
  "metadata": {
    "colab": {
      "provenance": []
    },
    "kernelspec": {
      "name": "python3",
      "display_name": "Python 3"
    },
    "language_info": {
      "name": "python"
    }
  },
  "cells": [
    {
      "cell_type": "markdown",
      "source": [
        "Exercici 1:\n",
        "Imprimir els números entre el 5 i el 20, saltant de tres en tres."
      ],
      "metadata": {
        "id": "TiAXQRVy5i2D"
      }
    },
    {
      "cell_type": "code",
      "execution_count": null,
      "metadata": {
        "colab": {
          "base_uri": "https://localhost:8080/"
        },
        "id": "TAvm3YNR4jLS",
        "outputId": "68e24854-d70d-41ac-ae40-3af4ebf150c8"
      },
      "outputs": [
        {
          "output_type": "stream",
          "name": "stdout",
          "text": [
            "5\n",
            "8\n",
            "11\n",
            "14\n",
            "17\n",
            "20\n"
          ]
        }
      ],
      "source": [
        "for i in range(5,21,3):\n",
        "  print(i)"
      ]
    },
    {
      "cell_type": "markdown",
      "source": [
        "Exercici 2:\n",
        "Requerir a l&#39;usuari que ingressi un nombre enter positiu i imprimir tots els números correlatius\n",
        "entre l&#39;ingressat per l&#39;usuari i un menys del doble d&#39;aquest."
      ],
      "metadata": {
        "id": "Tk1EF-W_eSAF"
      }
    },
    {
      "cell_type": "code",
      "source": [
        "numero=int(input('Ingresa un número entero positivo: '))\n",
        "for i in range(numero,(numero*2)):\n",
        "  print(i)"
      ],
      "metadata": {
        "colab": {
          "base_uri": "https://localhost:8080/"
        },
        "id": "18tx7QixeQp0",
        "outputId": "84fc095d-5d28-4561-f323-82ae137dc35a"
      },
      "execution_count": null,
      "outputs": [
        {
          "output_type": "stream",
          "name": "stdout",
          "text": [
            "Ingresa un número entero positivo: 4\n",
            "4\n",
            "5\n",
            "6\n",
            "7\n"
          ]
        }
      ]
    },
    {
      "cell_type": "markdown",
      "source": [
        "Exercici 3:\n",
        "Sol·licitar a l&#39;usuari que ingressi una frase i després imprimir un llistat de les vocals que\n",
        "apareixen en aquesta frase (sense repetir-les)."
      ],
      "metadata": {
        "id": "FrPRpMnJfefT"
      }
    },
    {
      "cell_type": "code",
      "source": [
        "frase=input('Escribe una frase: ')\n",
        "for i in frase:\n",
        "  if i =='a'or'A':\n",
        "    print('En la fresa hi esta la vocal a')\n",
        "    break\n",
        "for i in frase:\n",
        "  if i=='e'or'E':\n",
        "      print('En la fresa hi esta la vocal e')\n",
        "      break\n",
        "for i in frase:\n",
        "    if i=='i'or'I':\n",
        "      print('En la fresa hi esta la vocal i')\n",
        "      break\n",
        "for i in frase:\n",
        "    if i=='o'or'O':\n",
        "      print('En la fresa hi esta la vocal o')\n",
        "      break\n",
        "for i in frase:\n",
        "    if i=='u'or'U':\n",
        "        print('En la fresa hi esta la vocal u')\n",
        "        break\n",
        "      "
      ],
      "metadata": {
        "colab": {
          "base_uri": "https://localhost:8080/"
        },
        "id": "cQjlrMUEfl1N",
        "outputId": "ac72f110-8fab-44eb-902b-fdb78b3e7b5a"
      },
      "execution_count": null,
      "outputs": [
        {
          "output_type": "stream",
          "name": "stdout",
          "text": [
            "Escribe una frase: Hola me llamo Manuel Garcia\n",
            "En la fresa hi esta la vocal a\n",
            "En la fresa hi esta la vocal e\n",
            "En la fresa hi esta la vocal i\n",
            "En la fresa hi esta la vocal o\n",
            "En la fresa hi esta la vocal u\n"
          ]
        }
      ]
    },
    {
      "cell_type": "markdown",
      "source": [
        "Exercici 4: \n",
        "Sol·licitar a l&#39;usuari que ingressi una frase i després imprimir la quantitat de vocals que es\n",
        "troben en aquesta frase."
      ],
      "metadata": {
        "id": "7HB6kyi-zXzw"
      }
    },
    {
      "cell_type": "code",
      "source": [
        "frase=input('Escribe una frase: ')\n",
        "lista=['a','e','i','o','u']\n",
        "vocales=0\n",
        "for i in lista:\n",
        "  for j in frase:\n",
        "    if i==j:\n",
        "      vocales+=1\n",
        "print('En la frase hay',vocales,' vocales')\n",
        "  "
      ],
      "metadata": {
        "colab": {
          "base_uri": "https://localhost:8080/"
        },
        "id": "G9x9JRbLzyIf",
        "outputId": "6b3a9646-12c7-4500-ff59-b99090d31f92"
      },
      "execution_count": null,
      "outputs": [
        {
          "output_type": "stream",
          "name": "stdout",
          "text": [
            "Escribe una frase: aggkfagf\n",
            "En la frase hay 2  vocales\n"
          ]
        }
      ]
    },
    {
      "cell_type": "markdown",
      "source": [
        "Exercici 5:\n",
        "Escriure un programa que mostri la sumatòria de tots els números entre el 0 i el 100."
      ],
      "metadata": {
        "id": "Th-xyUbjicEo"
      }
    },
    {
      "cell_type": "code",
      "source": [
        "suma=0\n",
        "for num in range(0,100+1):\n",
        "  suma+=num\n",
        "print('La suma de tots els nombres entre 0 i 100 es de ',suma)\n",
        "  "
      ],
      "metadata": {
        "colab": {
          "base_uri": "https://localhost:8080/"
        },
        "id": "K-IIMiAmixL6",
        "outputId": "a06932c3-6c25-42c5-ec69-277ea36bac11"
      },
      "execution_count": null,
      "outputs": [
        {
          "output_type": "stream",
          "name": "stdout",
          "text": [
            "La suma de tots els nombres entre 0 i 100 es de  5050\n"
          ]
        }
      ]
    },
    {
      "cell_type": "markdown",
      "source": [
        "Exercici 6: Escriure un programa que mostri la sumatòria de tots els múltiples de 3 trobats entre el 0 i el\n",
        "100."
      ],
      "metadata": {
        "id": "K_9L7sEQkYnV"
      }
    },
    {
      "cell_type": "code",
      "source": [
        "suma=0\n",
        "multiples_3=[]\n",
        "for sum in range(0,100+1,):\n",
        "  if sum%3==0:\n",
        "    suma+=sum\n",
        "print('La sumatòria de tots els múltiples de 3 trobats entre el 0 i el 100 es',suma)"
      ],
      "metadata": {
        "colab": {
          "base_uri": "https://localhost:8080/"
        },
        "id": "SizdQWdpke_d",
        "outputId": "8751221e-4856-4d4e-9fc1-ca752451dc2a"
      },
      "execution_count": null,
      "outputs": [
        {
          "output_type": "stream",
          "name": "stdout",
          "text": [
            "La sumatòria de tots els múltiples de 3 trobats entre el 0 i el 100 es 1683\n"
          ]
        }
      ]
    },
    {
      "cell_type": "markdown",
      "source": [
        "Exercici 7:\n",
        "Donat un nombre enter positiu, mostrar el seu factorial. El factorial d&#39;un número s&#39;obté\n",
        "multiplicant tots els nombres enters positius que hi ha entre l&#39;1 i aquest número.\n",
        "Exemple: numero introduït = 5\n",
        "El seu factorial sería 1*2*3*4*5 = 120"
      ],
      "metadata": {
        "id": "vbcsN3AKmMNB"
      }
    },
    {
      "cell_type": "code",
      "source": [
        "factorial=1\n",
        "num=int(input('Introduce un número entero positivo: '))\n",
        "for fact in range(1,num+1):    \n",
        "  factorial*=fact\n",
        "print('El factorial de',num,'es',factorial)"
      ],
      "metadata": {
        "colab": {
          "base_uri": "https://localhost:8080/"
        },
        "id": "z5lremGWmRLl",
        "outputId": "505402a5-15f6-4809-9035-98202e40ffdf"
      },
      "execution_count": null,
      "outputs": [
        {
          "output_type": "stream",
          "name": "stdout",
          "text": [
            "Introduce un número entero positivo: 5\n",
            "El factorial de 5 es 120\n"
          ]
        }
      ]
    },
    {
      "cell_type": "markdown",
      "source": [
        "Exercici 8:\n",
        " Crear un algorisme que mostri els primers 10 números de la successió de Fibonacci.\n",
        "La successió comença amb els números 0 i 1 i, a partir d&#39;aquests, cada element és la suma dels\n",
        "dos números anteriors a la seqüència:\n",
        "0, 1, 1, 2, 3, 5, 8, 13, 21, 34, 55…"
      ],
      "metadata": {
        "id": "W-hFNZZwEeZy"
      }
    },
    {
      "cell_type": "code",
      "source": [
        "fibo=10\n",
        "inici=0\n",
        "\n",
        "for i in range(2,10):\n",
        "  sumafr=i+"
      ],
      "metadata": {
        "id": "CNlhuZvMFJGI"
      },
      "execution_count": null,
      "outputs": []
    },
    {
      "cell_type": "markdown",
      "source": [
        "Exercici 9:\n",
        " Escriure un programa que permeti a l&#39;usuari ingressar 6 nombres enters, que poden ser\n",
        "positius o negatius. En finalitzar, mostrar la sumatòria dels números negatius i la mitjana dels\n",
        "positius.\n",
        "No oblidis que no és possible dividir per zero, per la qual cosa és necessari evitar que el\n",
        "programa llanci un error si no es van ingressar números positius."
      ],
      "metadata": {
        "id": "KlgXjrApFQ5Y"
      }
    },
    {
      "cell_type": "code",
      "source": [
        "contador=0\n",
        "num1=int(input('Ingressa un nombre enter (negatiu o positiu): '))\n",
        "num2=int(input('Ingressa un nombre enter (negatiu o positiu): '))\n",
        "num3=int(input('Ingressa un nombre enter (negatiu o positiu): '))\n",
        "num4=int(input('Ingressa un nombre enter (negatiu o positiu): '))\n",
        "num5=int(input('Ingressa un nombre enter (negatiu o positiu): '))\n",
        "num6=int(input('Ingressa un nombre enter (negatiu o positiu): '))\n",
        "nums=[num1+num+num3+num4+num5+num6]\n",
        "nums2=[num1,num,num3,num4,num5,num6]\n",
        "while nums2<0:\n",
        "  for negatius in range(0,nums<0):\n",
        "    contador+=i\n",
        "while nums2>0:\n",
        "  for positius in range(0,nums2):\n",
        "    contador+=num\n",
        "    suma=contador+nums\n",
        "    mitjana=suma/nums\n",
        "  if mitjana==0:\n",
        "    print('No es posible fer la mitjana dels nombres positius perquè no es pot dividir per 0')\n",
        "\n",
        "print(contador,mitjana)\n",
        "    \n",
        "  "
      ],
      "metadata": {
        "colab": {
          "base_uri": "https://localhost:8080/",
          "height": 339
        },
        "id": "KRYBxRCnM5sh",
        "outputId": "6f1e9197-e9c2-4b4a-cd0d-f6a4ed9f2238"
      },
      "execution_count": null,
      "outputs": [
        {
          "name": "stdout",
          "output_type": "stream",
          "text": [
            "Ingressa un nombre enter (negatiu o positiu): 4\n",
            "Ingressa un nombre enter (negatiu o positiu): -2\n",
            "Ingressa un nombre enter (negatiu o positiu): -7\n",
            "Ingressa un nombre enter (negatiu o positiu): 9\n",
            "Ingressa un nombre enter (negatiu o positiu): -3\n",
            "Ingressa un nombre enter (negatiu o positiu): 5\n"
          ]
        },
        {
          "output_type": "error",
          "ename": "TypeError",
          "evalue": "ignored",
          "traceback": [
            "\u001b[0;31m---------------------------------------------------------------------------\u001b[0m",
            "\u001b[0;31mTypeError\u001b[0m                                 Traceback (most recent call last)",
            "\u001b[0;32m<ipython-input-5-6c6d025b8e9c>\u001b[0m in \u001b[0;36m<module>\u001b[0;34m\u001b[0m\n\u001b[1;32m      8\u001b[0m \u001b[0mnums\u001b[0m\u001b[0;34m=\u001b[0m\u001b[0;34m[\u001b[0m\u001b[0mnum1\u001b[0m\u001b[0;34m+\u001b[0m\u001b[0mnum\u001b[0m\u001b[0;34m+\u001b[0m\u001b[0mnum3\u001b[0m\u001b[0;34m+\u001b[0m\u001b[0mnum4\u001b[0m\u001b[0;34m+\u001b[0m\u001b[0mnum5\u001b[0m\u001b[0;34m+\u001b[0m\u001b[0mnum6\u001b[0m\u001b[0;34m]\u001b[0m\u001b[0;34m\u001b[0m\u001b[0;34m\u001b[0m\u001b[0m\n\u001b[1;32m      9\u001b[0m \u001b[0mnums2\u001b[0m\u001b[0;34m=\u001b[0m\u001b[0;34m[\u001b[0m\u001b[0mnum1\u001b[0m\u001b[0;34m,\u001b[0m\u001b[0mnum\u001b[0m\u001b[0;34m,\u001b[0m\u001b[0mnum3\u001b[0m\u001b[0;34m,\u001b[0m\u001b[0mnum4\u001b[0m\u001b[0;34m,\u001b[0m\u001b[0mnum5\u001b[0m\u001b[0;34m,\u001b[0m\u001b[0mnum6\u001b[0m\u001b[0;34m]\u001b[0m\u001b[0;34m\u001b[0m\u001b[0;34m\u001b[0m\u001b[0m\n\u001b[0;32m---> 10\u001b[0;31m \u001b[0;32mwhile\u001b[0m \u001b[0mnums2\u001b[0m\u001b[0;34m<\u001b[0m\u001b[0;36m0\u001b[0m\u001b[0;34m:\u001b[0m\u001b[0;34m\u001b[0m\u001b[0;34m\u001b[0m\u001b[0m\n\u001b[0m\u001b[1;32m     11\u001b[0m   \u001b[0;32mfor\u001b[0m \u001b[0mnegatius\u001b[0m \u001b[0;32min\u001b[0m \u001b[0mrange\u001b[0m\u001b[0;34m(\u001b[0m\u001b[0;36m0\u001b[0m\u001b[0;34m,\u001b[0m\u001b[0mnums\u001b[0m\u001b[0;34m<\u001b[0m\u001b[0;36m0\u001b[0m\u001b[0;34m)\u001b[0m\u001b[0;34m:\u001b[0m\u001b[0;34m\u001b[0m\u001b[0;34m\u001b[0m\u001b[0m\n\u001b[1;32m     12\u001b[0m     \u001b[0mcontador\u001b[0m\u001b[0;34m+=\u001b[0m\u001b[0mi\u001b[0m\u001b[0;34m\u001b[0m\u001b[0;34m\u001b[0m\u001b[0m\n",
            "\u001b[0;31mTypeError\u001b[0m: '<' not supported between instances of 'list' and 'int'"
          ]
        }
      ]
    }
  ]
}